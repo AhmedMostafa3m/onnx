{
 "cells": [
  {
   "cell_type": "code",
   "execution_count": null,
   "id": "b0c083d2",
   "metadata": {},
   "outputs": [],
   "source": [
    "# Section 1: Training a Simple Model\n",
    "\n",
    "import tensorflow as tf\n",
    "from tensorflow.keras.models import Sequential\n",
    "from tensorflow.keras.layers import Dense\n",
    "from sklearn.datasets import load_iris\n",
    "from sklearn.model_selection import train_test_split\n",
    "from sklearn.preprocessing import OneHotEncoder\n",
    "\n",
    "# Load and prepare the dataset\n",
    "iris = load_iris()\n",
    "X = iris.data\n",
    "y = iris.target.reshape(-1, 1)\n",
    "\n",
    "# One-hot encode the target variable\n",
    "encoder = OneHotEncoder(sparse=False)\n",
    "y = encoder.fit_transform(y)\n",
    "\n",
    "# Split the data into training and test sets\n",
    "X_train, X_test, y_train, y_test = train_test_split(X, y, test_size=0.2, random_state=42)\n",
    "\n",
    "# Build the model\n",
    "model = Sequential([\n",
    "    Dense(10, activation='relu', input_shape=(X_train.shape[1],)),\n",
    "    Dense(10, activation='relu'),\n",
    "    Dense(y_train.shape[1], activation='softmax')\n",
    "])\n",
    "\n",
    "# Compile the model\n",
    "model.compile(optimizer='adam', loss='categorical_crossentropy', metrics=['accuracy'])\n",
    "\n",
    "# Train the model\n",
    "model.fit(X_train, y_train, epochs=50, batch_size=5, verbose=2)\n",
    "\n",
    "# Evaluate the model\n",
    "loss, accuracy = model.evaluate(X_test, y_test, verbose=2)\n",
    "print(f'Test Accuracy: {accuracy:.4f}')\n",
    "\n",
    "# Save the model in TensorFlow format\n",
    "tf_model_path = './output/iris_model_tf'\n",
    "model.save(tf_model_path)\n",
    "print(f'TensorFlow model saved to {tf_model_path}')\n"
   ]
  },
  {
   "cell_type": "code",
   "execution_count": null,
   "id": "464f45a8",
   "metadata": {},
   "outputs": [],
   "source": [
    "# Section 2: Conversion to ONNX\n",
    "\n",
    "import tf2onnx\n",
    "import onnx\n",
    "\n",
    "# Define the model path\n",
    "onnx_model_path = './output/iris_model.onnx'\n",
    "\n",
    "# Convert the TensorFlow model to ONNX\n",
    "spec = (tf.TensorSpec((None, X_train.shape[1]), tf.float32, name=\"input\"),)\n",
    "output_path = tf2onnx.convert.from_keras(model, input_signature=spec, opset=13, output_path=onnx_model_path)\n",
    "\n",
    "print(f'Model saved to {onnx_model_path}')"
   ]
  },
  {
   "cell_type": "markdown",
   "id": "5fe47bcb",
   "metadata": {},
   "source": [
    "Model saved to ./output/iris_model.onnx"
   ]
  },
  {
   "cell_type": "code",
   "execution_count": null,
   "id": "c13a56dd",
   "metadata": {},
   "outputs": [],
   "source": [
    "# Section 3: Inference\n",
    "\n",
    "import onnxruntime as ort\n",
    "import numpy as np\n",
    "\n",
    "# Load the ONNX model\n",
    "onnx_model = ort.InferenceSession(onnx_model_path)\n",
    "\n",
    "# Prepare the input data for inference\n",
    "def prepare_input(data):\n",
    "    return {onnx_model.get_inputs()[0].name: data.astype(np.float32)}\n",
    "\n",
    "# Make predictions\n",
    "input_data = prepare_input(X_test)\n",
    "predictions = onnx_model.run(None, input_data)\n",
    "\n",
    "# Convert the predictions to class labels\n",
    "predicted_labels = np.argmax(predictions[0], axis=1)\n",
    "true_labels = np.argmax(y_test, axis=1)\n",
    "\n",
    "# Calculate accuracy\n",
    "accuracy = np.mean(predicted_labels == true_labels)\n",
    "print(f'Inference Accuracy: {accuracy:.4f}')"
   ]
  },
  {
   "cell_type": "markdown",
   "id": "527ba7c6",
   "metadata": {},
   "source": [
    "Inference Accuracy: 0.9667"
   ]
  },
  {
   "cell_type": "code",
   "execution_count": null,
   "id": "59e5e0ff",
   "metadata": {},
   "outputs": [],
   "source": [
    "# Section 3: Inference\n",
    "\n",
    "import onnxruntime as ort\n",
    "import numpy as np\n",
    "\n",
    "# Load the ONNX model\n",
    "onnx_model = ort.InferenceSession(onnx_model_path)\n",
    "\n",
    "# Prepare the input data for inference\n",
    "data = np.array([[4.5, 4.9, 5.1, 5.4],\n",
    "                 [1.5, 2.9, 3.1, 1.4],\n",
    "                 [7.5, 6.9, 8.1, 6.4]])\n",
    "\n",
    "def prepare_input(data):\n",
    "    return {onnx_model.get_inputs()[0].name: data.astype(np.float32)}\n",
    "\n",
    "# Make predictions\n",
    "input_data = prepare_input(data)\n",
    "predictions = onnx_model.run(None, input_data)\n",
    "\n",
    "# Convert the predictions to class labels\n",
    "predicted_labels = np.argmax(predictions[0], axis=1)\n",
    "print(f'Predicted labels: {predicted_labels}')"
   ]
  }
 ],
 "metadata": {
  "language_info": {
   "name": "python"
  }
 },
 "nbformat": 4,
 "nbformat_minor": 5
}
