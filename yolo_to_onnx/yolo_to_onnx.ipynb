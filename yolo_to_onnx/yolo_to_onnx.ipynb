{
 "cells": [
  {
   "cell_type": "code",
   "execution_count": null,
   "id": "ea8e2d78",
   "metadata": {},
   "outputs": [],
   "source": [
    "from ultralytics import YOLO\n",
    "\n",
    "# Load the YOLOv8 model\n",
    "model = YOLO(\"./output/yolov8n.pt\")\n",
    "\n",
    "# Export the model to ONNX format\n",
    "model.export(format=\"onnx\",half=True)  # creates 'yolov8n.onnx'\n",
    "\n",
    "# Load the exported ONNX model\n",
    "onnx_model = YOLO(\"./output/yolov8n.onnx\")\n",
    "\n",
    "# Run inference\n",
    "results = onnx_model(\"https://ultralytics.com/images/bus.jpg\",save=True,show = True) # show = True -> optional \n",
    "# print(results)"
   ]
  },
  {
   "cell_type": "code",
   "execution_count": null,
   "id": "a8a67d6d",
   "metadata": {},
   "outputs": [],
   "source": []
  }
 ],
 "metadata": {
  "language_info": {
   "name": "python"
  }
 },
 "nbformat": 4,
 "nbformat_minor": 5
}
