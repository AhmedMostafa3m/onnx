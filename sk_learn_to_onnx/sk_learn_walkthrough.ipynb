{
 "cells": [
  {
   "cell_type": "code",
   "execution_count": null,
   "id": "633549c4",
   "metadata": {},
   "outputs": [],
   "source": [
    "from sklearn.datasets import load_iris\n",
    "from sklearn.model_selection import train_test_split\n",
    "from sklearn.ensemble import RandomForestClassifier\n",
    "import joblib\n",
    "\n",
    "iris = load_iris()\n",
    "X,y = iris.data, iris.target\n",
    "X_train, X_test, y_train, y_test = train_test_split(X,y,random_state=0)\n",
    "\n",
    "clf = RandomForestClassifier(n_estimators=100)\n",
    "clf.fit(X_train, y_train)\n",
    "joblib.dump(clf, 'output/model.pkl', compress=9)"
   ]
  },
  {
   "cell_type": "markdown",
   "id": "14c4d7ae",
   "metadata": {},
   "source": [
    "['output/model.pkl']"
   ]
  },
  {
   "cell_type": "code",
   "execution_count": null,
   "id": "9c7e1836",
   "metadata": {},
   "outputs": [],
   "source": [
    "from skl2onnx import convert_sklearn\n",
    "from skl2onnx.common.data_types import FloatTensorType\n",
    "import joblib\n",
    "\n",
    "\"\"\"FloatTensorType with a shape of [None, 4]. \n",
    "The None in the shape indicates that the batch size is variable,\n",
    "and 4 represents the number of features in the input data.\"\"\"\n",
    "\n",
    "cls = joblib.load('output/model.pkl')\n",
    "initial_type = [('float_input', FloatTensorType([None, 4]))]\n",
    "onx = convert_sklearn(cls, initial_types=initial_type)\n",
    "\n",
    "with open('output/model.onnx', 'wb') as f:\n",
    "    f.write(onx.SerializeToString())"
   ]
  },
  {
   "cell_type": "code",
   "execution_count": null,
   "id": "e0f454a5",
   "metadata": {},
   "outputs": [],
   "source": [
    "import onnxruntime as rt\n",
    "import numpy as np\n",
    "\n",
    "data = np.array([[4.5,4.9,5.1,5.4],[1.5,2.9,3.1,1.4],[7.5,6.9,8.1,6.4]])\n",
    "\n",
    "sess = rt.InferenceSession(\"./output/model.onnx\")\n",
    "input_name = sess.get_inputs()[0].name # Return the inputs metadata as a list \n",
    "label_name = sess.get_outputs()[0].name # Return the outputs metadata as a list\n",
    "\n",
    "pred_onnx = sess.run([label_name], {input_name: data.astype(np.float32)})[0]\n",
    "print(pred_onnx)"
   ]
  },
  {
   "cell_type": "markdown",
   "id": "e0bf1a09",
   "metadata": {},
   "source": [
    "[2 1 2]"
   ]
  }
 ],
 "metadata": {
  "language_info": {
   "name": "python"
  }
 },
 "nbformat": 4,
 "nbformat_minor": 5
}
